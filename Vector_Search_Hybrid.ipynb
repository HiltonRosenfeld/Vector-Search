{
 "cells": [
  {
   "cell_type": "markdown",
   "id": "8ee0e82f-95fa-4efa-84e3-9873d4dcdaf1",
   "metadata": {
    "id": "8ee0e82f-95fa-4efa-84e3-9873d4dcdaf1"
   },
   "source": [
    "# Hybrid Search"
   ]
  },
  {
   "cell_type": "markdown",
   "id": "2c1f964d-aa85-4b2f-a04c-71c295fe9d1e",
   "metadata": {
    "id": "2c1f964d-aa85-4b2f-a04c-71c295fe9d1e"
   },
   "source": [
    "This demo is based on the original Vector Search demo for a product catalogue.\n",
    "\n",
    "The data model is enhanced to levergae hybrid search features:\n",
    "1. Analyzer Matches on product description to enhance filtering\n"
   ]
  },
  {
   "cell_type": "markdown",
   "id": "25d08ec4-0e7b-4819-933f-43ed5ff95e48",
   "metadata": {
    "id": "25d08ec4-0e7b-4819-933f-43ed5ff95e48"
   },
   "source": [
    "## Imports"
   ]
  },
  {
   "cell_type": "code",
   "execution_count": 1,
   "id": "01da99af-da9b-4f38-b841-d802ff23bf2f",
   "metadata": {
    "id": "01da99af-da9b-4f38-b841-d802ff23bf2f"
   },
   "outputs": [],
   "source": [
    "from cassandra.cluster import Cluster\n",
    "from cassandra.auth import PlainTextAuthProvider\n",
    "from cassandra.query import dict_factory\n",
    "from cassandra.query import SimpleStatement\n",
    "import openai\n",
    "import pandas as pd"
   ]
  },
  {
   "cell_type": "markdown",
   "id": "b7a93b64-e9e9-41d1-95c9-dc9194a5ec8d",
   "metadata": {
    "id": "b7a93b64-e9e9-41d1-95c9-dc9194a5ec8d"
   },
   "source": [
    "## Keys & Environment Variables"
   ]
  },
  {
   "cell_type": "code",
   "execution_count": 2,
   "id": "ebeb1df7-2dcc-4ba6-a941-49c68631bd49",
   "metadata": {
    "id": "ebeb1df7-2dcc-4ba6-a941-49c68631bd49"
   },
   "outputs": [],
   "source": [
    "import os\n",
    "from dotenv import load_dotenv\n",
    "\n",
    "load_dotenv()\n",
    "\n",
    "# Astra DB\n",
    "ASTRA_DB_KEYSPACE = os.environ['ASTRA_DB_KEYSPACE']\n",
    "ASTRA_DB_SECURE_BUNDLE_PATH = os.environ['ASTRA_DB_SECURE_BUNDLE_PATH']\n",
    "ASTRA_DB_APPLICATION_TOKEN = os.environ['ASTRA_DB_APPLICATION_TOKEN']\n",
    "\n",
    "# OpenAI Token\n",
    "openai_api_key = os.environ['OPENAI_API_KEY']\n",
    "openai.api_key = openai_api_key"
   ]
  },
  {
   "cell_type": "markdown",
   "id": "a96369f4-d311-44c2-8469-f960a2a8718a",
   "metadata": {
    "id": "a96369f4-d311-44c2-8469-f960a2a8718a"
   },
   "source": [
    "## Select a model to compute embeddings\n",
    "\n",
    "Embeddings are numerical representations of concepts converted to number sequences, which make it easy for computers to understand the relationships between those concepts.\n",
    "\n",
    "This new embedding model from openAI - `text-embedding-ada-002` - replaces five separate models for text search, text similarity, and code search, and outperforms our previous most capable model, Davinci, at most tasks, while being priced 99.8% lower."
   ]
  },
  {
   "cell_type": "code",
   "execution_count": 3,
   "id": "553fece5-8154-4e18-9610-ff4999bfe171",
   "metadata": {
    "id": "553fece5-8154-4e18-9610-ff4999bfe171"
   },
   "outputs": [],
   "source": [
    "model_id = \"text-embedding-ada-002\""
   ]
  },
  {
   "cell_type": "markdown",
   "id": "bafd4fc1-84a4-4384-bb3e-42ecffab2455",
   "metadata": {
    "id": "bafd4fc1-84a4-4384-bb3e-42ecffab2455"
   },
   "source": [
    "## Connect to Astra DB"
   ]
  },
  {
   "cell_type": "code",
   "execution_count": 4,
   "id": "8c5b0058-391d-421e-81a0-eb2f7fe684df",
   "metadata": {
    "colab": {
     "base_uri": "https://localhost:8080/"
    },
    "id": "8c5b0058-391d-421e-81a0-eb2f7fe684df",
    "outputId": "2a69b7bd-bfac-48b3-a8be-68d84349292e"
   },
   "outputs": [
    {
     "data": {
      "text/plain": [
       "<cassandra.cluster.Session at 0x107e1bc70>"
      ]
     },
     "execution_count": 4,
     "metadata": {},
     "output_type": "execute_result"
    }
   ],
   "source": [
    "cloud_config= {\n",
    "  'secure_connect_bundle': ASTRA_DB_SECURE_BUNDLE_PATH\n",
    "}\n",
    "auth_provider = PlainTextAuthProvider('token', ASTRA_DB_APPLICATION_TOKEN)\n",
    "cluster = Cluster(cloud=cloud_config, auth_provider=auth_provider)\n",
    "session = cluster.connect()\n",
    "session.set_keyspace(ASTRA_DB_KEYSPACE)\n",
    "session"
   ]
  },
  {
   "cell_type": "markdown",
   "id": "2ed4d659",
   "metadata": {},
   "source": [
    "## Database Schema"
   ]
  },
  {
   "cell_type": "markdown",
   "id": "0670b30f-927f-47da-b71d-0a99092c3f58",
   "metadata": {
    "id": "0670b30f-927f-47da-b71d-0a99092c3f58"
   },
   "source": [
    "### Drop Schema\n",
    "\n",
    "> **Note:** Only run this block when you want to DROP the schema."
   ]
  },
  {
   "cell_type": "code",
   "execution_count": null,
   "id": "acf0fd4c-8367-4d5f-983f-5aa7d14a8948",
   "metadata": {
    "colab": {
     "base_uri": "https://localhost:8080/"
    },
    "id": "acf0fd4c-8367-4d5f-983f-5aa7d14a8948",
    "outputId": "40cd08f2-dce8-4aff-a20e-969055961d31"
   },
   "outputs": [],
   "source": [
    "# only use this to DROP the schema\n",
    "session.execute(f\"\"\"DROP INDEX IF EXISTS idx_product_desc\"\"\")\n",
    "session.execute(f\"\"\"DROP INDEX IF EXISTS idx_consumer_desc\"\"\")\n",
    "session.execute(f\"\"\"DROP INDEX IF EXISTS idx_analyzer_description\"\"\")\n",
    "session.execute(f\"\"\"DROP INDEX IF EXISTS idx_price\"\"\")\n",
    "\n",
    "session.execute(f\"\"\"DROP TABLE IF EXISTS products_table\"\"\")"
   ]
  },
  {
   "cell_type": "markdown",
   "id": "5501d808",
   "metadata": {},
   "source": [
    "### Create Schema\n",
    "\n",
    "> **Note:** Only run this block when you want to CREATE the schema.\n",
    "\n",
    "\n",
    "- Note the data type `vector` in the schema below.\n",
    "\n",
    "- Note the index on the `embedding` columns. These will Vector Similraity Search on the embeddings.\n",
    "\n",
    "- Note the index on the `price` column. This will allow filtering based on price.\n",
    "\n",
    "- Note the Index Analyzer on the `description` column. This will allow filtering on any word (with stemming)."
   ]
  },
  {
   "cell_type": "code",
   "execution_count": null,
   "id": "a941c487-1c6b-4f46-a0a3-305a95931d82",
   "metadata": {
    "colab": {
     "base_uri": "https://localhost:8080/"
    },
    "id": "a941c487-1c6b-4f46-a0a3-305a95931d82",
    "outputId": "2f910e29-f369-4ee0-d7c6-196c2c8dc7ed"
   },
   "outputs": [],
   "source": [
    "# CREATE the schema\n",
    "\n",
    "session.execute(f\"\"\"CREATE TABLE IF NOT EXISTS products_table\n",
    "(product_id int,\n",
    " chunk_id int,\n",
    "\n",
    " product_name text,\n",
    " description text,\n",
    " consumer_description text,\n",
    " price int,\n",
    " \n",
    " product_description_embedding vector<float, 1536>,\n",
    " consumer_description_embedding vector<float, 1536>,\n",
    "\n",
    " PRIMARY KEY (product_id, chunk_id))\"\"\")\n",
    "\n",
    "# Create Vector Indexes\n",
    "session.execute(\"CREATE CUSTOM INDEX IF NOT EXISTS idx_product_desc ON products_table (product_description_embedding) \\\n",
    "                USING 'org.apache.cassandra.index.sai.StorageAttachedIndex'\")\n",
    "session.execute(\"CREATE CUSTOM INDEX IF NOT EXISTS idx_consumer_desc ON products_table (consumer_description_embedding) \\\n",
    "                USING 'org.apache.cassandra.index.sai.StorageAttachedIndex'\")\n",
    "\n",
    "# Create Index on Price\n",
    "session.execute(\"CREATE CUSTOM INDEX IF NOT EXISTS idx_price ON products_table(price) \\\n",
    "                USING 'org.apache.cassandra.index.sai.StorageAttachedIndex'\")\n",
    "\n",
    "# Create Analyser on Description\n",
    "session.execute(\"\"\"CREATE CUSTOM INDEX IF NOT EXISTS idx_analyzer_description ON products_table(description) \\\n",
    "                USING 'org.apache.cassandra.index.sai.StorageAttachedIndex' WITH OPTIONS = {'index_analyzer': '{ \\\n",
    "                    \"tokenizer\" : {\"name\" : \"standard\"}, \\\n",
    "                    \"filters\" : [{\"name\" : \"porterstem\"}] \\\n",
    "                }'};\"\"\")\n"
   ]
  },
  {
   "cell_type": "markdown",
   "id": "c1fe256f-9efb-41f0-8803-d99696c6089b",
   "metadata": {
    "id": "c1fe256f-9efb-41f0-8803-d99696c6089b"
   },
   "source": [
    "## Create embeddings and Store in DB \n",
    "\n",
    "### Read CSV file"
   ]
  },
  {
   "cell_type": "code",
   "execution_count": null,
   "id": "cec8fd49-90b7-4f8f-b6e8-50a34896e452",
   "metadata": {
    "colab": {
     "base_uri": "https://localhost:8080/",
     "height": 419
    },
    "id": "cec8fd49-90b7-4f8f-b6e8-50a34896e452",
    "outputId": "3b5e3519-fd28-4de1-8b31-c2192236980c"
   },
   "outputs": [],
   "source": [
    "products_list = pd.read_csv('ProductDatasetCombined.csv')\n",
    "products_list"
   ]
  },
  {
   "cell_type": "markdown",
   "id": "ad78835c",
   "metadata": {},
   "source": [
    "### Generate embeddings from openAI and store data"
   ]
  },
  {
   "cell_type": "code",
   "execution_count": null,
   "id": "4cb8bddd",
   "metadata": {},
   "outputs": [],
   "source": [
    "# Iterate over products\n",
    "for id, row in products_list.iterrows():\n",
    "\n",
    "    print (row.product_name)\n",
    "\n",
    "    ### GENERATE EMBEDDINGS ###\n",
    "    print (\"    - generating embeddings\")\n",
    "    \n",
    "    # Get price\n",
    "    pricevalue = f\"${row.price}\" if isinstance(row.price, str) else \"\"\n",
    "\n",
    "    # append price to description\n",
    "    original = f\"{row.description} price: {pricevalue}\"\n",
    "    # append price to consumer description\n",
    "    consumer = f\"{row.consumer_description} price: {pricevalue}\"\n",
    "    \n",
    "    # Create  embedding\n",
    "    embedding_product = openai.Embedding.create(input=original, model=model_id)['data'][0]['embedding']\n",
    "    # Create consumer embedding\n",
    "    embedding_consumer = openai.Embedding.create(input=consumer, model=model_id)['data'][0]['embedding']\n",
    "\n",
    "\n",
    "    ### WRITE TO DATABASE ###\n",
    "    print (\"    - writing to database\")\n",
    "    \n",
    "    # Insert Data and Embedding into database\n",
    "    query = SimpleStatement(\n",
    "                f\"\"\"\n",
    "                INSERT INTO products_table\n",
    "                (product_id, chunk_id, product_name, description, consumer_description, price, product_description_embedding, consumer_description_embedding)\n",
    "                VALUES (%s, %s, %s, %s, %s, %s, %s, %s)\n",
    "                \"\"\"\n",
    "            )\n",
    "    session.execute(query, (row.product_id, 0, row.product_name, row.description, row.consumer_description, row.price, embedding_product, embedding_consumer))\n"
   ]
  },
  {
   "cell_type": "markdown",
   "id": "b25356fe",
   "metadata": {},
   "source": [
    "## Searching"
   ]
  },
  {
   "cell_type": "markdown",
   "id": "4b87fce8",
   "metadata": {},
   "source": [
    "### Convert a query string into a text embedding to use as part of the query"
   ]
  },
  {
   "cell_type": "code",
   "execution_count": 5,
   "id": "6696aa22",
   "metadata": {},
   "outputs": [],
   "source": [
    "MAX_PRICE = 500\n",
    "\n",
    "customer_input = f\"recommend a camera suitable for a beginner photographer that costs less than ${MAX_PRICE}\"\n",
    "embedding = openai.Embedding.create(input=customer_input, model=model_id)['data'][0]['embedding']\n",
    "#display(embedding)"
   ]
  },
  {
   "cell_type": "markdown",
   "id": "9537cc95",
   "metadata": {},
   "source": [
    "### Vector Search Only\n",
    "Query using only Vector Similarity Search with ANN top 3"
   ]
  },
  {
   "cell_type": "code",
   "execution_count": 6,
   "id": "bf990f7b",
   "metadata": {},
   "outputs": [
    {
     "name": "stdout",
     "output_type": "stream",
     "text": [
      "Similarity: 0.9212608337402344\n",
      "Product Name: Canon Digital EOS Rebel XS Starter Kit - 9320A010\n",
      "Price: 499\n",
      "The Canon Digital EOS Rebel XS Starter Kit (9320A010) is an all-inclusive package that is perfect for beginners looking to explore the world of photography. The kit includes the Canon EOS Rebel XS digital camera, which boasts an impressive 10.1-megapixel image sensor for stunning photos and an easy-to-use interface. It also comes with an 18-55mm f/3.5-5.6 IS lens, providing versatility for capturing a range of subjects. Additionally, the kit includes a handy camera bag to protect and carry your gear, as well as a 4GB SD memory card to store your captured moments. With this starter kit, you'll have everything you need to dive into the world of photography and capture beautiful, high-quality images.\n",
      "\n",
      "\n",
      "Similarity: 0.913399338722229\n",
      "Product Name: Canon EOS Rebel XSi Silver Digital SLR Camera - XSIREB1855S\n",
      "Price: 799\n",
      "The Canon EOS Rebel XSi Silver Digital SLR Camera is a high-quality camera that is perfect for newbie photographers who want to capture stunning images. It features a sleek silver design and comes equipped with an 18-55mm lens for versatile shooting. With its 12.2-megapixel sensor, this camera delivers crisp and vibrant photos with exceptional detail. It also offers advanced features like a 3-inch LCD screen for easy framing and reviewing shots, as well as an autofocus system for quick and precise focusing. Whether you're a photography enthusiast or just looking to capture everyday moments, the Canon EOS Rebel XSi is a reliable and user-friendly choice that will help you unleash your creativity.\n",
      "\n",
      "\n",
      "Similarity: 0.9095256328582764\n",
      "Product Name: Canon Silver PowerShot Digital Camera - SD880IS\n",
      "Price: 300\n",
      "The Canon Silver PowerShot Digital Camera - SD880IS is a compact and sleek camera that delivers exceptional image quality. With a 10-megapixel sensor, this camera ensures sharp and detailed pictures every time. Its powerful zoom capability allows you to get closer to your subject without compromising on clarity. The large LCD screen makes it easy to view and compose your shots, while the image stabilization feature helps to reduce any blurriness caused by camera shake. Additionally, this camera offers a variety of shooting modes and built-in effects for creative and fun photography. Whether you're capturing stunning landscape views or special moments with loved ones, the Canon Silver PowerShot Digital Camera - SD880IS is the perfect companion for any amateur photographer.\n",
      "\n",
      "\n"
     ]
    }
   ],
   "source": [
    "query = SimpleStatement(\n",
    "    f\"\"\"\n",
    "    SELECT product_id, product_name, description, consumer_description, price, similarity_dot_product(consumer_description_embedding, {embedding}) as sim\n",
    "    FROM products_table\n",
    "    ORDER BY consumer_description_embedding ANN OF {embedding} LIMIT 3;\n",
    "    \"\"\"\n",
    "    )\n",
    "results = session.execute(query)\n",
    "products = results._current_rows\n",
    "\n",
    "for row in products:\n",
    "  print(f\"\"\"Similarity: {row.sim}\\nProduct Name: {row.product_name}\\nPrice: {row.price}\\n{row.consumer_description}\\n\\n\"\"\")"
   ]
  },
  {
   "cell_type": "markdown",
   "id": "d24aa358",
   "metadata": {},
   "source": [
    "### Predicates Only Search"
   ]
  },
  {
   "cell_type": "markdown",
   "id": "740b0ea9",
   "metadata": {},
   "source": [
    "#### Filter on \"price\""
   ]
  },
  {
   "cell_type": "code",
   "execution_count": 7,
   "id": "4cb95e25",
   "metadata": {},
   "outputs": [
    {
     "name": "stdout",
     "output_type": "stream",
     "text": [
      "Product Name: Apple 120GB Black 7th Generation iPod Classic - MB565LLA\n",
      "Price: 349\n",
      "The Apple 120GB Black 7th Generation iPod Classic - MB565LLA is a sleek and portable gadget that allows you to carry your entire music library with you wherever you go. With its generous storage capacity of 120GB, you can store up to 30,000 songs, ensuring that you never run out of music to enjoy. The black and elegant design adds a touch of sophistication, while the user-friendly interface and click wheel make it easy to navigate through your playlists. With a long battery life, you can listen to your favorite tunes for hours on end without needing to recharge. Whether you're commuting, exercising, or relaxing at home, this iPod Classic is the perfect companion for music lovers on the go.\n",
      "\n",
      "\n",
      "Product Name: Audiovox 7'  Acrylic Digital Photo Frame - DPF701\n",
      "Price: 0\n",
      "The Audiovox 7' Acrylic Digital Photo Frame, also known as the DPF701, is a sleek and stylish device designed to display your cherished memories with clarity and vibrancy. Featuring a 7-inch high-resolution screen, this photo frame allows you to showcase your favorite photos in a slideshow format, adding a touch of elegance to any space. With easy-to-use controls and multiple photo viewing options, you can customize your display experience according to your preferences. Its acrylic construction adds a modern and sophisticated touch, making it a perfect addition to your home or office décor. Whether you want to relive fond memories or simply add a personal touch to your environment, the Audiovox 7' Acrylic Digital Photo Frame is an excellent choice.\n",
      "\n",
      "\n",
      "Product Name: Canon PIXMA Black Photo Printer - IP4600\n",
      "Price: 99\n",
      "The Canon PIXMA Black Photo Printer - IP4600 is a versatile and high-quality printer designed to meet all your photo printing needs. With its sleek black design, this printer effortlessly blends into any home or office setup. It features advanced technology and a 5-color ink system, delivering stunning and vibrant photos with an impressive resolution of up to 9600 x 2400 dpi. The IP4600 offers convenient features like automatic double-sided printing, borderless photo printing, and direct printing from compatible devices like cameras or memory cards. Whether you want to print professional-looking photos or everyday documents, this Canon PIXMA printer is sure to deliver exceptional results.\n",
      "\n",
      "\n"
     ]
    }
   ],
   "source": [
    "query = SimpleStatement(\n",
    "    f\"\"\"\n",
    "    SELECT product_id, product_name, description, consumer_description, price\n",
    "    FROM products_table\n",
    "    WHERE price < {MAX_PRICE} LIMIT 3;\n",
    "    \"\"\"\n",
    "    )\n",
    "results = session.execute(query)\n",
    "products = results._current_rows\n",
    "\n",
    "for row in products:\n",
    "  print(f\"\"\"Product Name: {row.product_name}\\nPrice: {row.price}\\n{row.consumer_description}\\n\\n\"\"\")"
   ]
  },
  {
   "cell_type": "markdown",
   "id": "99fe388d",
   "metadata": {},
   "source": [
    "#### Analyzer on \"description\""
   ]
  },
  {
   "cell_type": "code",
   "execution_count": 8,
   "id": "dc974219",
   "metadata": {},
   "outputs": [
    {
     "name": "stdout",
     "output_type": "stream",
     "text": [
      "Product Name: Apple 120GB Black 7th Generation iPod Classic - MB565LLA\n",
      "Price: 349\n",
      "The Apple 120GB Black 7th Generation iPod Classic - MB565LLA is a sleek and portable gadget that allows you to carry your entire music library with you wherever you go. With its generous storage capacity of 120GB, you can store up to 30,000 songs, ensuring that you never run out of music to enjoy. The black and elegant design adds a touch of sophistication, while the user-friendly interface and click wheel make it easy to navigate through your playlists. With a long battery life, you can listen to your favorite tunes for hours on end without needing to recharge. Whether you're commuting, exercising, or relaxing at home, this iPod Classic is the perfect companion for music lovers on the go.\n",
      "\n",
      "\n",
      "Product Name: Audiovox 7'  Acrylic Digital Photo Frame - DPF701\n",
      "Price: 0\n",
      "The Audiovox 7' Acrylic Digital Photo Frame, also known as the DPF701, is a sleek and stylish device designed to display your cherished memories with clarity and vibrancy. Featuring a 7-inch high-resolution screen, this photo frame allows you to showcase your favorite photos in a slideshow format, adding a touch of elegance to any space. With easy-to-use controls and multiple photo viewing options, you can customize your display experience according to your preferences. Its acrylic construction adds a modern and sophisticated touch, making it a perfect addition to your home or office décor. Whether you want to relive fond memories or simply add a personal touch to your environment, the Audiovox 7' Acrylic Digital Photo Frame is an excellent choice.\n",
      "\n",
      "\n",
      "Product Name: Canon PIXMA Black Photo Printer - IP4600\n",
      "Price: 99\n",
      "The Canon PIXMA Black Photo Printer - IP4600 is a versatile and high-quality printer designed to meet all your photo printing needs. With its sleek black design, this printer effortlessly blends into any home or office setup. It features advanced technology and a 5-color ink system, delivering stunning and vibrant photos with an impressive resolution of up to 9600 x 2400 dpi. The IP4600 offers convenient features like automatic double-sided printing, borderless photo printing, and direct printing from compatible devices like cameras or memory cards. Whether you want to print professional-looking photos or everyday documents, this Canon PIXMA printer is sure to deliver exceptional results.\n",
      "\n",
      "\n"
     ]
    }
   ],
   "source": [
    "query = SimpleStatement(\n",
    "    f\"\"\"\n",
    "    SELECT product_id, product_name, description, consumer_description, price\n",
    "    FROM products_table\n",
    "    WHERE description : 'Black' LIMIT 3;\n",
    "    \"\"\"\n",
    "    )\n",
    "results = session.execute(query)\n",
    "products = results._current_rows\n",
    "\n",
    "for row in products:\n",
    "  print(f\"\"\"Product Name: {row.product_name}\\nPrice: {row.price}\\n{row.consumer_description}\\n\\n\"\"\")"
   ]
  },
  {
   "cell_type": "markdown",
   "id": "0c39a433",
   "metadata": {},
   "source": [
    "### Hybrid Search"
   ]
  },
  {
   "cell_type": "markdown",
   "id": "022b35f0",
   "metadata": {},
   "source": [
    "#### Basic Filter\n",
    "Query using Predicates and Vector Similarity Search with ANN top 3"
   ]
  },
  {
   "cell_type": "code",
   "execution_count": 9,
   "id": "3e900a82",
   "metadata": {},
   "outputs": [
    {
     "name": "stdout",
     "output_type": "stream",
     "text": [
      "Product Name: Canon Digital EOS Rebel XS Starter Kit - 9320A010\n",
      "Price: 499\n",
      "The Canon Digital EOS Rebel XS Starter Kit (9320A010) is an all-inclusive package that is perfect for beginners looking to explore the world of photography. The kit includes the Canon EOS Rebel XS digital camera, which boasts an impressive 10.1-megapixel image sensor for stunning photos and an easy-to-use interface. It also comes with an 18-55mm f/3.5-5.6 IS lens, providing versatility for capturing a range of subjects. Additionally, the kit includes a handy camera bag to protect and carry your gear, as well as a 4GB SD memory card to store your captured moments. With this starter kit, you'll have everything you need to dive into the world of photography and capture beautiful, high-quality images.\n",
      "\n",
      "\n",
      "Product Name: Canon PowerShot Black 14.7 Megapixel Digital Camera - SD990ISB\n",
      "Price: 380\n",
      "The Canon PowerShot Black 14.7 Megapixel Digital Camera - SD990ISB is an advanced yet user-friendly camera designed for everyday photography enthusiasts. With its impressive 14.7-megapixel resolution, this camera captures stunning high-quality images with clarity and detail. The sleek black design adds a touch of elegance, while its compact size makes it convenient to carry around. Equipped with advanced features like image stabilization, a large LCD screen, and various shooting modes, this camera makes it easy to quickly and effortlessly capture professional-looking photos. Whether you are capturing memorable family moments or exploring your creative side, the Canon PowerShot SD990ISB is an excellent choice for capturing beautiful, high-resolution images.\n",
      "\n",
      "\n",
      "Product Name: Canon Silver PowerShot Digital Camera - SD880IS\n",
      "Price: 300\n",
      "The Canon Silver PowerShot Digital Camera - SD880IS is a compact and sleek camera that delivers exceptional image quality. With a 10-megapixel sensor, this camera ensures sharp and detailed pictures every time. Its powerful zoom capability allows you to get closer to your subject without compromising on clarity. The large LCD screen makes it easy to view and compose your shots, while the image stabilization feature helps to reduce any blurriness caused by camera shake. Additionally, this camera offers a variety of shooting modes and built-in effects for creative and fun photography. Whether you're capturing stunning landscape views or special moments with loved ones, the Canon Silver PowerShot Digital Camera - SD880IS is the perfect companion for any amateur photographer.\n",
      "\n",
      "\n"
     ]
    }
   ],
   "source": [
    "query = SimpleStatement(\n",
    "    f\"\"\"\n",
    "    SELECT product_id, product_name, description, consumer_description, price\n",
    "    FROM products_table\n",
    "    WHERE price < {MAX_PRICE} \n",
    "    ORDER BY consumer_description_embedding ANN OF {embedding} LIMIT 3;\n",
    "    \"\"\"\n",
    "    )\n",
    "results = session.execute(query)\n",
    "products = results._current_rows\n",
    "\n",
    "for row in products:\n",
    "  print(f\"\"\"Product Name: {row.product_name}\\nPrice: {row.price}\\n{row.consumer_description}\\n\\n\"\"\")"
   ]
  },
  {
   "cell_type": "markdown",
   "id": "56a6a298",
   "metadata": {},
   "source": [
    "#### Filter and Analyzer\n",
    "\n",
    "Query using Analyzer and Predicates and Vector Similarity Search with ANN top 3"
   ]
  },
  {
   "cell_type": "code",
   "execution_count": 10,
   "id": "49840032",
   "metadata": {},
   "outputs": [
    {
     "name": "stdout",
     "output_type": "stream",
     "text": [
      "Product Name: Canon PowerShot Black 14.7 Megapixel Digital Camera - SD990ISB\n",
      "Price: 380\n",
      "The Canon PowerShot Black 14.7 Megapixel Digital Camera - SD990ISB is an advanced yet user-friendly camera designed for everyday photography enthusiasts. With its impressive 14.7-megapixel resolution, this camera captures stunning high-quality images with clarity and detail. The sleek black design adds a touch of elegance, while its compact size makes it convenient to carry around. Equipped with advanced features like image stabilization, a large LCD screen, and various shooting modes, this camera makes it easy to quickly and effortlessly capture professional-looking photos. Whether you are capturing memorable family moments or exploring your creative side, the Canon PowerShot SD990ISB is an excellent choice for capturing beautiful, high-resolution images.\n",
      "\n",
      "\n",
      "Product Name: Canon Black EOS 50D Digital SLR Camera Body - EOS50DBODY\n",
      "Price: 148\n",
      "The Canon Black EOS 50D Digital SLR Camera Body is a high-performance camera designed for photography enthusiasts and professionals. With its advanced features and impressive image quality, it allows users to capture stunning photos with ease. The camera body comes in a sleek black design and offers a durable construction for long-lasting use. It features a 15.1-megapixel CMOS sensor that produces sharp and detailed images, even in low light conditions. The EOS 50D also boasts fast shooting speeds, with the ability to capture up to 6.3 frames per second, making it ideal for capturing action shots. Additionally, it offers a wide range of shooting modes and customization options to cater to different photography styles, while its large LCD screen enables easy viewing and navigation through the camera's settings. Overall, the Canon EOS 50D Digital SLR Camera Body provides an excellent option for photographers looking for exceptional image quality and versatility in a professional-grade camera.\n",
      "\n",
      "\n",
      "Product Name: Canon PowerShot Black 10 Megapixel Digital Camera - SX10IS\n",
      "Price: 400\n",
      "The Canon PowerShot Black 10 Megapixel Digital Camera - SX10IS is a versatile and user-friendly camera that is perfect for capturing stunning photos and videos. With its 10-megapixel resolution, it delivers high-quality images with exceptional clarity and detail. Its black design gives it a sleek and stylish appearance. The camera features a powerful zoom lens that allows you to capture distant subjects with ease, making it great for shooting landscapes, wildlife, or events. It also offers various shooting modes and settings to enhance your creativity and achieve professional-looking results. With its intuitive controls and user-friendly interface, even beginners can easily navigate and operate this camera. Overall, the Canon PowerShot SX10IS is a reliable and feature-packed digital camera that ensures superior image quality, making it an excellent choice for photography enthusiasts of all levels.\n",
      "\n",
      "\n"
     ]
    }
   ],
   "source": [
    "query = SimpleStatement(\n",
    "    f\"\"\"\n",
    "    SELECT product_id, product_name, description, consumer_description, price\n",
    "    FROM products_table\n",
    "    WHERE \n",
    "      price < {MAX_PRICE} AND\n",
    "      description : 'Black'\n",
    "    ORDER BY consumer_description_embedding ANN OF {embedding} LIMIT 3;\n",
    "    \"\"\"\n",
    "    )\n",
    "results = session.execute(query)\n",
    "products = results._current_rows\n",
    "\n",
    "for row in products:\n",
    "  print(f\"\"\"Product Name: {row.product_name}\\nPrice: {row.price}\\n{row.consumer_description}\\n\\n\"\"\")"
   ]
  },
  {
   "cell_type": "markdown",
   "id": "5c8c4d5b",
   "metadata": {},
   "source": []
  }
 ],
 "metadata": {
  "colab": {
   "provenance": []
  },
  "kernelspec": {
   "display_name": "Python 3 (ipykernel)",
   "language": "python",
   "name": "python3"
  },
  "language_info": {
   "codemirror_mode": {
    "name": "ipython",
    "version": 3
   },
   "file_extension": ".py",
   "mimetype": "text/x-python",
   "name": "python",
   "nbconvert_exporter": "python",
   "pygments_lexer": "ipython3",
   "version": "3.9.18"
  }
 },
 "nbformat": 4,
 "nbformat_minor": 5
}
