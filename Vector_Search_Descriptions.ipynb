{
 "cells": [
  {
   "cell_type": "markdown",
   "id": "8ee0e82f-95fa-4efa-84e3-9873d4dcdaf1",
   "metadata": {
    "id": "8ee0e82f-95fa-4efa-84e3-9873d4dcdaf1"
   },
   "source": [
    "# Vector Search Descriptions"
   ]
  },
  {
   "cell_type": "markdown",
   "id": "2c1f964d-aa85-4b2f-a04c-71c295fe9d1e",
   "metadata": {
    "id": "2c1f964d-aa85-4b2f-a04c-71c295fe9d1e"
   },
   "source": [
    "1. Source consumer focused descriptions for each product using LLM.\n",
    "2. Create embeddings from better descriptions.\n",
    "3. Store new embeddings."
   ]
  },
  {
   "cell_type": "markdown",
   "id": "25d08ec4-0e7b-4819-933f-43ed5ff95e48",
   "metadata": {
    "id": "25d08ec4-0e7b-4819-933f-43ed5ff95e48"
   },
   "source": [
    "## Imports"
   ]
  },
  {
   "cell_type": "code",
   "execution_count": null,
   "id": "01da99af-da9b-4f38-b841-d802ff23bf2f",
   "metadata": {
    "id": "01da99af-da9b-4f38-b841-d802ff23bf2f"
   },
   "outputs": [],
   "source": [
    "from cassandra.cluster import Cluster\n",
    "from cassandra.auth import PlainTextAuthProvider\n",
    "from cassandra.query import dict_factory\n",
    "from cassandra.query import SimpleStatement\n",
    "import openai\n",
    "import pandas as pd"
   ]
  },
  {
   "cell_type": "markdown",
   "id": "b7a93b64-e9e9-41d1-95c9-dc9194a5ec8d",
   "metadata": {
    "id": "b7a93b64-e9e9-41d1-95c9-dc9194a5ec8d"
   },
   "source": [
    "## Keys & Environment Variables"
   ]
  },
  {
   "cell_type": "code",
   "execution_count": null,
   "id": "ebeb1df7-2dcc-4ba6-a941-49c68631bd49",
   "metadata": {
    "id": "ebeb1df7-2dcc-4ba6-a941-49c68631bd49"
   },
   "outputs": [],
   "source": [
    "import os\n",
    "from dotenv import load_dotenv\n",
    "\n",
    "load_dotenv()\n",
    "\n",
    "# Astra DB\n",
    "ASTRA_DB_KEYSPACE = os.environ['ASTRA_DB_KEYSPACE']\n",
    "ASTRA_DB_SECURE_BUNDLE_PATH = os.environ['ASTRA_DB_SECURE_BUNDLE_PATH']\n",
    "ASTRA_DB_APPLICATION_TOKEN = os.environ['ASTRA_DB_APPLICATION_TOKEN']\n",
    "\n",
    "# OpenAI Token\n",
    "openai_api_key = os.environ['OPENAI_API_KEY']\n",
    "openai.api_key = openai_api_key"
   ]
  },
  {
   "cell_type": "markdown",
   "id": "a96369f4-d311-44c2-8469-f960a2a8718a",
   "metadata": {
    "id": "a96369f4-d311-44c2-8469-f960a2a8718a"
   },
   "source": [
    "## Select a model to compute embeddings\n",
    "\n",
    "Embeddings are numerical representations of concepts converted to number sequences, which make it easy for computers to understand the relationships between those concepts.\n",
    "\n",
    "This new embedding model from openAI - `text-embedding-ada-002` - replaces five separate models for text search, text similarity, and code search, and outperforms our previous most capable model, Davinci, at most tasks, while being priced 99.8% lower."
   ]
  },
  {
   "cell_type": "code",
   "execution_count": null,
   "id": "553fece5-8154-4e18-9610-ff4999bfe171",
   "metadata": {
    "id": "553fece5-8154-4e18-9610-ff4999bfe171"
   },
   "outputs": [],
   "source": [
    "model_id = \"text-embedding-ada-002\""
   ]
  },
  {
   "cell_type": "markdown",
   "id": "bafd4fc1-84a4-4384-bb3e-42ecffab2455",
   "metadata": {
    "id": "bafd4fc1-84a4-4384-bb3e-42ecffab2455"
   },
   "source": [
    "## Connect to Astra DB"
   ]
  },
  {
   "cell_type": "code",
   "execution_count": null,
   "id": "8c5b0058-391d-421e-81a0-eb2f7fe684df",
   "metadata": {
    "colab": {
     "base_uri": "https://localhost:8080/"
    },
    "id": "8c5b0058-391d-421e-81a0-eb2f7fe684df",
    "outputId": "2a69b7bd-bfac-48b3-a8be-68d84349292e"
   },
   "outputs": [],
   "source": [
    "cloud_config= {\n",
    "  'secure_connect_bundle': ASTRA_DB_SECURE_BUNDLE_PATH\n",
    "}\n",
    "auth_provider = PlainTextAuthProvider('token', ASTRA_DB_APPLICATION_TOKEN)\n",
    "cluster = Cluster(cloud=cloud_config, auth_provider=auth_provider)\n",
    "session = cluster.connect()\n",
    "session.set_keyspace('vector_search_basics')\n",
    "session"
   ]
  },
  {
   "cell_type": "markdown",
   "id": "2ed4d659",
   "metadata": {},
   "source": [
    "## Database Schema\n",
    "\n",
    "> **Note:** The following blocks only need be run when you create the schema. Otherwise use them at your dicretion.\n",
    "\n",
    "Note the data type `vector` in the schema below."
   ]
  },
  {
   "cell_type": "markdown",
   "id": "0670b30f-927f-47da-b71d-0a99092c3f58",
   "metadata": {
    "id": "0670b30f-927f-47da-b71d-0a99092c3f58"
   },
   "source": [
    "### Drop Schema\n",
    "\n",
    "> **Note:** Only run this block when you want to DROP the schema."
   ]
  },
  {
   "cell_type": "code",
   "execution_count": null,
   "id": "acf0fd4c-8367-4d5f-983f-5aa7d14a8948",
   "metadata": {
    "colab": {
     "base_uri": "https://localhost:8080/"
    },
    "id": "acf0fd4c-8367-4d5f-983f-5aa7d14a8948",
    "outputId": "40cd08f2-dce8-4aff-a20e-969055961d31"
   },
   "outputs": [],
   "source": [
    "# only use this to DROP the schema\n",
    "session.execute(f\"\"\"DROP INDEX IF EXISTS openai_desc\"\"\")\n",
    "session.execute(f\"\"\"DROP INDEX IF EXISTS consumer_desc\"\"\")\n",
    "session.execute(f\"\"\"DROP INDEX IF EXISTS combined_desc\"\"\")\n",
    "session.execute(f\"\"\"DROP INDEX IF EXISTS minilm_desc\"\"\")\n",
    "\n",
    "session.execute(f\"\"\"DROP TABLE IF EXISTS products_table\"\"\")"
   ]
  },
  {
   "cell_type": "markdown",
   "id": "5501d808",
   "metadata": {},
   "source": [
    "### Create Schema\n",
    "\n",
    "> **Note:** Only run this block when you want to CREATE the schema."
   ]
  },
  {
   "cell_type": "code",
   "execution_count": null,
   "id": "a941c487-1c6b-4f46-a0a3-305a95931d82",
   "metadata": {
    "colab": {
     "base_uri": "https://localhost:8080/"
    },
    "id": "a941c487-1c6b-4f46-a0a3-305a95931d82",
    "outputId": "2f910e29-f369-4ee0-d7c6-196c2c8dc7ed"
   },
   "outputs": [],
   "source": [
    "# CREATE the schema\n",
    "\n",
    "session.execute(f\"\"\"CREATE TABLE IF NOT EXISTS products_table\n",
    "(product_id int,\n",
    " chunk_id int,\n",
    "\n",
    " product_name text,\n",
    " description text,\n",
    " consumer_description text,\n",
    " price text,\n",
    " \n",
    " openai_description_embedding vector<float, 1536>,\n",
    " consumer_description_embedding vector<float, 1536>,\n",
    " combined_description_embedding vector<float, 1536>,\n",
    "\n",
    " PRIMARY KEY (product_id, chunk_id))\"\"\")\n",
    "\n",
    "# Create Index\n",
    "session.execute(\"CREATE CUSTOM INDEX IF NOT EXISTS openai_desc ON products_table (openai_description_embedding) USING 'org.apache.cassandra.index.sai.StorageAttachedIndex'\")\n",
    "session.execute(\"CREATE CUSTOM INDEX IF NOT EXISTS consumer_desc ON products_table (consumer_description_embedding) USING 'org.apache.cassandra.index.sai.StorageAttachedIndex'\")\n",
    "session.execute(\"CREATE CUSTOM INDEX IF NOT EXISTS combined_desc ON products_table (combined_description_embedding) USING 'org.apache.cassandra.index.sai.StorageAttachedIndex'\")\n"
   ]
  },
  {
   "cell_type": "markdown",
   "id": "c1fe256f-9efb-41f0-8803-d99696c6089b",
   "metadata": {
    "id": "c1fe256f-9efb-41f0-8803-d99696c6089b"
   },
   "source": [
    "## Create embeddings and Store in DB \n",
    "\n",
    "### Read CSV file"
   ]
  },
  {
   "cell_type": "code",
   "execution_count": null,
   "id": "cec8fd49-90b7-4f8f-b6e8-50a34896e452",
   "metadata": {
    "colab": {
     "base_uri": "https://localhost:8080/",
     "height": 419
    },
    "id": "cec8fd49-90b7-4f8f-b6e8-50a34896e452",
    "outputId": "3b5e3519-fd28-4de1-8b31-c2192236980c"
   },
   "outputs": [],
   "source": [
    "products_list = pd.read_csv('ProductDataset.csv')\n",
    "products_list"
   ]
  },
  {
   "cell_type": "markdown",
   "id": "ad78835c",
   "metadata": {},
   "source": [
    "### Generate consumer description based on product_description from openAI"
   ]
  },
  {
   "cell_type": "code",
   "execution_count": null,
   "id": "4cb8bddd",
   "metadata": {},
   "outputs": [],
   "source": [
    "products_list['consumer_description'] = \"\"\n",
    "\n",
    "# Iterate over products\n",
    "for id, row in products_list.iterrows():\n",
    "\n",
    "    print (row.product_name)\n",
    "\n",
    "    ### GENERATE CONSUMER DESCRIPTION ###\n",
    "    print (\"    - generating consumer description\")\n",
    "\n",
    "    # Create Prompt\n",
    "    message_objects = []\n",
    "    message_objects.append({\"role\":\"user\",\n",
    "     \"content\": f\"Provide a single paragraph consumer level description of the product: {row.product_name}\"})\n",
    "\n",
    "    # Generate consumer description\n",
    "    completion = openai.ChatCompletion.create(model=\"gpt-3.5-turbo\",messages=message_objects)\n",
    "    consumer_description = completion.choices[0].message['content']\n",
    "    \n",
    "    # Update DataFrame with completion\n",
    "    products_list.at[id,'consumer_description'] = consumer_description\n",
    "\n",
    "\n",
    "    ### GENERATE EMBEDDINGS ###\n",
    "    print (\"    - generating embeddings\")\n",
    "    \n",
    "    # Get price\n",
    "    pricevalue = row.price if isinstance(row.price, str) else \"\"\n",
    "\n",
    "    # append price to description\n",
    "    original = f\"{row.description} price: {pricevalue}\"\n",
    "    # append price to consumer description\n",
    "    consumer = f\"{consumer_description} price: {pricevalue}\"\n",
    "    # append price to combined description\n",
    "    combined = f\"{consumer_description} {row.description} price: {pricevalue}\"\n",
    "    \n",
    "    # Create  embedding\n",
    "    embedding = openai.Embedding.create(input=original, model=model_id)['data'][0]['embedding']\n",
    "    # Create consumer embedding\n",
    "    embedding_consumer = openai.Embedding.create(input=consumer, model=model_id)['data'][0]['embedding']\n",
    "    # Create combined embedding\n",
    "    embedding_combined = openai.Embedding.create(input=combined, model=model_id)['data'][0]['embedding']\n",
    "\n",
    "\n",
    "    ### WRITE TO DATABASE ###\n",
    "    print (\"    - writing to database\")\n",
    "    \n",
    "    # Insert Data and Embedding into database\n",
    "    query = SimpleStatement(\n",
    "                f\"\"\"\n",
    "                INSERT INTO products_table\n",
    "                (product_id, chunk_id, product_name, description, consumer_description, price, openai_description_embedding, consumer_description_embedding, combined_description_embedding)\n",
    "                VALUES (%s, %s, %s, %s, %s, %s, %s, %s, %s)\n",
    "                \"\"\"\n",
    "            )\n",
    "    session.execute(query, (row.product_id, 0, row.product_name, row.description, consumer_description, pricevalue, embedding, embedding_consumer, embedding_combined))\n"
   ]
  },
  {
   "cell_type": "code",
   "execution_count": null,
   "id": "a64a9ad1",
   "metadata": {},
   "outputs": [],
   "source": [
    "# Write new product file\n",
    "products_list.to_csv('ProductDatasetCombined.csv')"
   ]
  },
  {
   "cell_type": "markdown",
   "id": "4b87fce8",
   "metadata": {},
   "source": [
    "## Convert a query string into a text embedding to use as part of the query"
   ]
  },
  {
   "cell_type": "code",
   "execution_count": null,
   "id": "6696aa22",
   "metadata": {},
   "outputs": [],
   "source": [
    "customer_input = \"recommend a camera for novice photographer\"\n",
    "embedding = openai.Embedding.create(input=customer_input, model=model_id)['data'][0]['embedding']\n",
    "display(embedding)"
   ]
  },
  {
   "cell_type": "markdown",
   "id": "b25356fe",
   "metadata": {},
   "source": [
    "## Find the top 5 results using ANN Similarity\n",
    "\n",
    "Let's take a look at what a query against a vector index could look like.  The query vector has the same dimensions (number of entries in the list) as the embeddings we generated a few steps ago for each row in the database."
   ]
  },
  {
   "cell_type": "code",
   "execution_count": null,
   "id": "bf990f7b",
   "metadata": {},
   "outputs": [],
   "source": [
    "query = SimpleStatement(\n",
    "    f\"\"\"\n",
    "    SELECT product_id, product_name, description, consumer_description, price, similarity_dot_product(consumer_description_embedding, {embedding}) as sim\n",
    "    FROM products_table\n",
    "    ORDER BY consumer_description_embedding ANN OF {embedding} LIMIT 5;\n",
    "    \"\"\"\n",
    "    )\n",
    "#display(query)\n",
    "\n",
    "results = session.execute(query)\n",
    "top_5_products = results._current_rows\n",
    "\n",
    "for row in top_5_products:\n",
    "  #print(row)\n",
    "  print(f\"\"\"{row.sim}: {row.product_name}\\n{row.consumer_description}\\n\\n\"\"\")"
   ]
  },
  {
   "cell_type": "code",
   "execution_count": null,
   "id": "fea0fafe",
   "metadata": {},
   "outputs": [],
   "source": []
  }
 ],
 "metadata": {
  "colab": {
   "provenance": []
  },
  "kernelspec": {
   "display_name": "Python 3 (ipykernel)",
   "language": "python",
   "name": "python3"
  },
  "language_info": {
   "codemirror_mode": {
    "name": "ipython",
    "version": 3
   },
   "file_extension": ".py",
   "mimetype": "text/x-python",
   "name": "python",
   "nbconvert_exporter": "python",
   "pygments_lexer": "ipython3",
   "version": "3.9.18"
  }
 },
 "nbformat": 4,
 "nbformat_minor": 5
}
